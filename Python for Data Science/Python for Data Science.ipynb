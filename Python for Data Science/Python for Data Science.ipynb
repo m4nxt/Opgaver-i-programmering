{
 "cells": [
  {
   "cell_type": "markdown",
   "metadata": {},
   "source": [
    "# Python for Data Science\n",
    "\n",
    "## Opgave 1\n",
    "\n",
    "Lixtallet er et udtryk for en teksts læsbarhed. Formlen til at beregne $LIX$-tallet er givet ved $LIX = \\frac{O}{P} + \\frac{L * 100}{O}$, hvor $O$ er antal ord i teksten, $P$ er antal punktummer i teksten og $L$ antal lange ord (over 6 bogstaver lange).\n",
    "\n",
    "Formlen kan altså forstås som antal ord per mellem hvert punktum lagt sammen med procentdelen af de lange ord i teksten. Man har så følgende skala til at vurdere LIX-tallet med:\n",
    "* $LIX \\geq 55$: Meget svær, faglitteratur på akademisk niveau, lovtekster.\n",
    "* $45 \\leq LIX < 55$ Svær, f.eks. saglige bøger, populærvidenskabelige værker, akademiske udgivelser.\n",
    "* $35 \\leq LIX < 45$ Middel, f.eks. dagblade og tidsskrifter.\n",
    "* $25 \\leq LIX < 35$ Let for øvede læsere, f.eks. ugebladslitteratur og skønlitteratur for voksne.\n",
    "* $LIX < 25$: Let tekst for alle læsere, f.eks. børnelitteratur.\n",
    "\n",
    "### 1.1. Lav et program, der bestemmer Lix-tallet af en tekststreng. Programmet skal fortælle hvilket niveau teksten ligger på. Antag at du får teksten i en string-variable."
   ]
  },
  {
   "cell_type": "code",
   "execution_count": null,
   "metadata": {},
   "outputs": [],
   "source": [
    "def main ():\n",
    "    f = open(input('> '), \"r\")\n",
    "    file = f.read().split(' ')\n",
    "    O = 0\n",
    "    P = 0\n",
    "    L = 0\n",
    "    for word in file:\n",
    "        O += 1\n",
    "        if '.' in word: P += 1\n",
    "        if len(word) > 6: L += 1\n",
    "\n",
    "    try: print(f\"LIX = {O/P + (L * 100)/O}\")\n",
    "    except: print(f\"Error: {ZeroDivisionError}\")\n",
    "\n",
    "main()"
   ]
  },
  {
   "cell_type": "markdown",
   "metadata": {},
   "source": [
    "### 1.2. Benyt din LIX-beregner på en tekst du skrev i folkeskolen og en tekst, du har skrevet i gymnasiet (det kunne f.eks. være en dansk stil)."
   ]
  },
  {
   "cell_type": "code",
   "execution_count": null,
   "metadata": {},
   "outputs": [],
   "source": [
    "def main ():\n",
    "    f = open(\"Indgreb i ligevægt.txt\", \"r\")\n",
    "    file = f.read().split(' ')\n",
    "    O = 0\n",
    "    P = 0\n",
    "    L = 0\n",
    "    for word in file:\n",
    "        O += 1\n",
    "        if '.' in word: P += 1\n",
    "        if len(word) > 6: L += 1\n",
    "\n",
    "    try: print(f\"LIX = {O/P + (L * 100)/O}\")\n",
    "    except: print(f\"Error: {ZeroDivisionError}\")\n",
    "\n",
    "main()"
   ]
  },
  {
   "cell_type": "markdown",
   "metadata": {},
   "source": [
    "Denne er lidt upræcis da opgaven er skrevet i $\\LaTeX$ og ikke i ren tekst."
   ]
  },
  {
   "cell_type": "markdown",
   "metadata": {},
   "source": [
    "## Opgave 2\n",
    "\n",
    "Skriv et program der konstruerer 3 tekst variabler, som rummer teksterne “Der var engang”, “ en mand som” og “boede i en spand. Spanden var af ler”.\n",
    "\n",
    "### 2.1. Sammenkæd de tre tekststrenge via variablerne"
   ]
  },
  {
   "cell_type": "code",
   "execution_count": null,
   "metadata": {},
   "outputs": [],
   "source": [
    "def main ():\n",
    "    a = \"Der var engang\"\n",
    "    b = \"en mand som\"\n",
    "    c = \"boede i en spand. Spanden var af ler.\"\n",
    "\n",
    "    print(f\"{a} {b} {c}\")\n",
    "\n",
    "main()"
   ]
  },
  {
   "cell_type": "markdown",
   "metadata": {},
   "source": [
    "### 2.2. Bestem længden af hver af dem"
   ]
  },
  {
   "cell_type": "code",
   "execution_count": null,
   "metadata": {},
   "outputs": [],
   "source": [
    "def main ():\n",
    "    a = \"Der var engang\"\n",
    "    b = \"en mand som\"\n",
    "    c = \"boede i en spand. Spanden var af ler.\"\n",
    "\n",
    "    for i in [ a, b ,c ]:\n",
    "        print(f\"{i}: {len(i)}\")\n",
    "\n",
    "main()"
   ]
  },
  {
   "cell_type": "markdown",
   "metadata": {},
   "source": [
    "### 2.3. Undersøg det andet bogstav i hver af dem"
   ]
  },
  {
   "cell_type": "code",
   "execution_count": null,
   "metadata": {},
   "outputs": [],
   "source": [
    "def main ():\n",
    "    a = \"Der var engang\"\n",
    "    b = \"en mand som\"\n",
    "    c = \"boede i en spand. Spanden var af ler.\"\n",
    "\n",
    "    for i in [ a, b ,c ]:\n",
    "        print(i[1])\n",
    "\n",
    "main()"
   ]
  },
  {
   "cell_type": "markdown",
   "metadata": {},
   "source": [
    "### 2.4. Undersøg om to af variablerne er det samme"
   ]
  },
  {
   "cell_type": "code",
   "execution_count": null,
   "metadata": {},
   "outputs": [],
   "source": [
    "def main ():\n",
    "    a = \"Der var engang\"\n",
    "    b = \"en mand som\"\n",
    "    c = \"boede i en spand. Spanden var af ler.\"\n",
    "\n",
    "    multiples = []\n",
    "    for i in [ a, b, c ]:\n",
    "        arr = [ a, b, c]\n",
    "        arr.remove(i)\n",
    "        if i in arr: \n",
    "            multiples.append(i)\n",
    "\n",
    "    print(multiples)\n",
    "\n",
    "main()"
   ]
  },
  {
   "cell_type": "markdown",
   "metadata": {},
   "source": [
    "### 2.5. Skriv hele teksten som versaler"
   ]
  },
  {
   "cell_type": "code",
   "execution_count": null,
   "metadata": {},
   "outputs": [],
   "source": [
    "def main ():\n",
    "    a = \"Der var engang\"\n",
    "    b = \"en mand som\"\n",
    "    c = \"boede i en spand. Spanden var af ler.\"\n",
    "\n",
    "    versaler = \"\"\n",
    "    for i in [ a, b, c ]:\n",
    "        versaler += f\"{i.upper()} \"\n",
    "\n",
    "    print(versaler)\n",
    "\n",
    "main()"
   ]
  },
  {
   "cell_type": "markdown",
   "metadata": {},
   "source": [
    "### 2.6. Lav en ny variabel der er en delstreng af en af variablerne"
   ]
  },
  {
   "cell_type": "code",
   "execution_count": null,
   "metadata": {},
   "outputs": [],
   "source": [
    "def main ():\n",
    "    a = \"Der var engang\"\n",
    "    b = \"en mand som\"\n",
    "    c = \"boede i en spand. Spanden var af ler.\"\n",
    "\n",
    "    d = a[2:12]\n",
    "    print(d)\n",
    "\n",
    "main()"
   ]
  },
  {
   "cell_type": "markdown",
   "metadata": {},
   "source": [
    "### 2.7. Sammenflet de tre variabler så det første bogstav er fra den første variable, den anden fra den anden osv"
   ]
  },
  {
   "cell_type": "code",
   "execution_count": null,
   "metadata": {},
   "outputs": [],
   "source": [
    "def main ():\n",
    "\ta = \"Der var engang\"\n",
    "\tb = \"en mand som\"\n",
    "\tc = \"boede i en spand. Spanden var af ler.\"\n",
    "\td = \"\"\n",
    "\tlength = min( len(a), len(b), len(c) )\n",
    "\tfor i in range(0, length, 3):\n",
    "\t\td += a[i]\n",
    "\t\td += b[i+1]\n",
    "\t\td += c[i+2]\n",
    "\tprint(d)\n",
    "\t\n",
    "main()"
   ]
  },
  {
   "cell_type": "markdown",
   "metadata": {},
   "source": [
    "### 2.8. Undersøg hvor mange forekomster af \"e\" der er i teksten"
   ]
  },
  {
   "cell_type": "code",
   "execution_count": null,
   "metadata": {},
   "outputs": [],
   "source": [
    "def main ():\n",
    "\ta = \"Der var engang\"\n",
    "\tb = \"en mand som\"\n",
    "\tc = \"boede i en spand. Spanden var af ler.\"\n",
    "\tcount = 0\n",
    "\tfor i in a + b + c:\n",
    "\t\tif i == 'e':\n",
    "\t\t\tcount += 1\n",
    "\tprint(f\"{count=}\")\n",
    "\t\n",
    "main()"
   ]
  },
  {
   "cell_type": "markdown",
   "metadata": {},
   "source": [
    "## Opgave 3\n",
    "### 3.1. Skriv et program, der generer multiplikationstabellen fra 1 til 10."
   ]
  },
  {
   "cell_type": "code",
   "execution_count": null,
   "metadata": {},
   "outputs": [],
   "source": [
    "def main ():\n",
    "\tarr = []\n",
    "\tfor i in range(1, 11):\n",
    "\t\ttemp = []\n",
    "\t\tfor j in range(1, 11):\n",
    "\t\t\ttemp.append(i * j)\n",
    "\t\tarr.append(temp)\n",
    "\tprint(arr)\n",
    "\n",
    "main()"
   ]
  },
  {
   "cell_type": "markdown",
   "metadata": {},
   "source": [
    "## Opgave 4\n",
    "\n",
    "### 4.1. Skriv et program, der finder det mindste hele tal $n$, så $n^2$ er større end 12.000."
   ]
  },
  {
   "cell_type": "code",
   "execution_count": 15,
   "metadata": {},
   "outputs": [
    {
     "name": "stdout",
     "output_type": "stream",
     "text": [
      "110\n"
     ]
    }
   ],
   "source": [
    "def getSmallest (m):\n",
    "\tn = 0\n",
    "\tfor i in range(m):\n",
    "\t\tif n * n < m: n += 1\n",
    "\t\telif n * n > m: n -= 1\n",
    "\t\telse: return n\n",
    "\treturn n\n",
    "\n",
    "print(getSmallest(12_000))"
   ]
  },
  {
   "cell_type": "markdown",
   "metadata": {},
   "source": [
    "Alternativt kan opgaven løses således."
   ]
  },
  {
   "cell_type": "code",
   "execution_count": 18,
   "metadata": {},
   "outputs": [
    {
     "name": "stdout",
     "output_type": "stream",
     "text": [
      "110\n"
     ]
    }
   ],
   "source": [
    "import math\n",
    "\n",
    "def getSmallest(n):\n",
    "\treturn math.ceil(math.sqrt(n))\n",
    "\n",
    "print(getSmallest(12_000))"
   ]
  },
  {
   "cell_type": "markdown",
   "metadata": {},
   "source": [
    "### 4.2. Skriv dernæst et program, der finder det største hele tal $n$, så $n^3$ er mindre end 12.000"
   ]
  },
  {
   "cell_type": "code",
   "execution_count": 28,
   "metadata": {},
   "outputs": [
    {
     "name": "stdout",
     "output_type": "stream",
     "text": [
      "22\n"
     ]
    }
   ],
   "source": [
    "def getBiggest (m):\n",
    "\tn = 0\n",
    "\tfor i in range(100):\n",
    "\t\tif n ** 3 < m: n += 1\n",
    "\t\telif n ** 3 > m: n -= 1\n",
    "\treturn n\n",
    "\n",
    "print(getBiggest(12_000))"
   ]
  },
  {
   "cell_type": "markdown",
   "metadata": {},
   "source": [
    "## Opgave 5\n",
    "\n",
    "### 5.1. Lav en Basal Metabolic Rate (BMR) beregner, der fortæller hvor meget energi du forbrænder i hviletilstand i løbet af en dag (kalorier).\n",
    "\n",
    "Input er hvorvidt du er mand eller kvinde, samt vægt (kg), alder (år), højde (cM) og aktivitetsniveau. Formlen, kendt som Harris-Benedicts ligninger er givet på [denne side](https://en.wikipedia.org/wiki/Harris%E2%80%93Benedict_equation), og aktivitetsniveauet er givet på [denne side](https://www.bmi-calculator.net/bmr-calculator/harris-benedict-equation/). Du vælger selv hvilken variant af formlen, som du ønsker at implimentere."
   ]
  },
  {
   "cell_type": "code",
   "execution_count": null,
   "metadata": {},
   "outputs": [],
   "source": []
  },
  {
   "cell_type": "markdown",
   "metadata": {},
   "source": [
    "### 5.2. En Big Mac rummer ca. 500 kalorier. Lav en omregner, der reger i Big Macs"
   ]
  },
  {
   "cell_type": "code",
   "execution_count": null,
   "metadata": {},
   "outputs": [],
   "source": []
  },
  {
   "cell_type": "markdown",
   "metadata": {},
   "source": [
    "## Opgave 6\n",
    "\n",
    "### 6.1. Undersøg em en given tekststreng (string) udgør et validt CPR-NR."
   ]
  },
  {
   "cell_type": "code",
   "execution_count": null,
   "metadata": {},
   "outputs": [],
   "source": [
    "def isDate (day, month, year, code):\n",
    "    if code > 4999: year += 2000\n",
    "    else: year += 1900\n",
    "\n",
    "    if day > 31: return False\n",
    "    if month > 12: return False\n",
    "\n",
    "    if month == 2 & day > 29:\n",
    "        return False\n",
    "    if day > 28 and month == 2 and year % 4 != 0:\n",
    "        return False\n",
    "\n",
    "    if month % 2 == 0 & month < 7:\n",
    "        if day > 30: return False\n",
    "    if month % 2 != 0 & month > 8:\n",
    "        if day > 30: return False\n",
    "        \n",
    "    if not 1900 < year < 2058: \n",
    "        return False\n",
    "\n",
    "    return True\n",
    "    \n",
    "\n",
    "def isCPR (cpr):  \n",
    "    if len(cpr) != 10: return False\n",
    "\n",
    "    try:\n",
    "        day = int(cpr[0:2])\n",
    "        month = int(cpr[2:4])\n",
    "        year = int(cpr[4:6])\n",
    "        code = int(cpr[6:10])\n",
    "    except: return False\n",
    "\n",
    "    if not isDate(day, month, year, code): \n",
    "        return False\n",
    "\n",
    "    return True\n",
    "\n",
    "print(isCPR(str(input())))"
   ]
  }
 ],
 "metadata": {
  "kernelspec": {
   "display_name": "Python 3.10.7 64-bit",
   "language": "python",
   "name": "python3"
  },
  "language_info": {
   "codemirror_mode": {
    "name": "ipython",
    "version": 3
   },
   "file_extension": ".py",
   "mimetype": "text/x-python",
   "name": "python",
   "nbconvert_exporter": "python",
   "pygments_lexer": "ipython3",
   "version": "3.10.8"
  },
  "orig_nbformat": 4,
  "vscode": {
   "interpreter": {
    "hash": "e7370f93d1d0cde622a1f8e1c04877d8463912d04d973331ad4851f04de6915a"
   }
  }
 },
 "nbformat": 4,
 "nbformat_minor": 2
}
